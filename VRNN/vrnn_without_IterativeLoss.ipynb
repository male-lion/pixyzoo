{
 "cells": [
  {
   "cell_type": "markdown",
   "metadata": {},
   "source": [
    "# VRNN\n",
    "* Original paper: A Recurrent Latent Variable Model for Sequential Data (https://arxiv.org/pdf/1506.02216.pdf)\n",
    "* Original code: https://github.com/jych/nips2015_vrnn"
   ]
  },
  {
   "cell_type": "markdown",
   "metadata": {},
   "source": [
    "## VRNN summary\n",
    "VRNN extends the VAE into a recurrent framework for modelling high-dimensional sequences.  \n",
    "VRNN integrates random variables into the RNN hidden state, and integrates the dependencies between the latent random variables at neighboring timesteps."
   ]
  },
  {
   "cell_type": "code",
   "execution_count": 2,
   "metadata": {},
   "outputs": [],
   "source": [
    "from tqdm import tqdm\n",
    "\n",
    "import torch\n",
    "from torch import optim\n",
    "import torch.nn as nn\n",
    "import torch.nn.functional as F\n",
    "from torchvision import transforms, datasets\n",
    "from tensorboardX import SummaryWriter\n",
    "\n",
    "batch_size = 256\n",
    "epochs = 5\n",
    "seed = 1\n",
    "torch.manual_seed(seed)\n",
    "\n",
    "if torch.cuda.is_available():\n",
    "    device = \"cuda\"\n",
    "else:\n",
    "    device = \"cpu\""
   ]
  },
  {
   "cell_type": "code",
   "execution_count": 3,
   "metadata": {},
   "outputs": [],
   "source": [
    "# Experiment Setting\n",
    "# generate MNIST by stacking row images(consider row as time step)\n",
    "def init_dataset(f_batch_size):\n",
    "    kwargs = {'num_workers': 1, 'pin_memory': True}\n",
    "    data_dir = '../data'\n",
    "    mnist_transform = transforms.Compose([\n",
    "        transforms.ToTensor(),\n",
    "        transforms.Lambda(lambda data: data[0])\n",
    "    ])\n",
    "    train_loader = torch.utils.data.DataLoader(\n",
    "        datasets.MNIST(data_dir, train=True, download=True,\n",
    "                       transform=mnist_transform),\n",
    "        batch_size=f_batch_size, shuffle=True, **kwargs)\n",
    "    test_loader = torch.utils.data.DataLoader(\n",
    "        datasets.MNIST(data_dir, train=False, transform=mnist_transform),\n",
    "        batch_size=f_batch_size, shuffle=True, **kwargs)\n",
    "\n",
    "    fixed_t_size = 28\n",
    "    return train_loader, test_loader, fixed_t_size\n",
    "\n",
    "train_loader, test_loader, t_max = init_dataset(batch_size)"
   ]
  },
  {
   "cell_type": "code",
   "execution_count": 4,
   "metadata": {},
   "outputs": [],
   "source": [
    "from pixyz.utils import print_latex"
   ]
  },
  {
   "cell_type": "markdown",
   "metadata": {},
   "source": [
    "## Define probability distribution\n",
    "### In the original paper\n",
    "Prior(equation (5) in the paper): $p\\left(\\mathbf{z}_{t} | \\mathbf{x}_{<t}, \\mathbf{z}_{<t}\\right) = \\mathcal{N}\\left(\\boldsymbol{\\mu}_{0, t}, \\operatorname{diag}\\left(\\boldsymbol{\\sigma}_{0, t}^{2}\\right)\\right), \\text { where }\\left[\\boldsymbol{\\mu}_{0, t}, \\boldsymbol{\\sigma}_{0, t}\\right]=\\varphi_{\\tau}^{\\text {prior }}\\left(\\mathbf{h}_{t-1}\\right)$\n",
    "\n",
    "Generator(equation (6) in the paper): $p\\left(\\mathbf{x}_{t} | \\mathbf{z} \\leq t, \\mathbf{x}<t\\right) = \\mathcal{N}\\left(\\boldsymbol{\\mu}_{x, t}, \\operatorname{diag}\\left(\\boldsymbol{\\sigma}_{x, t}^{2}\\right)\\right), \\text { where }\\left[\\boldsymbol{\\mu}_{x, t}, \\boldsymbol{\\sigma}_{x, t}\\right]=\\varphi_{\\tau}^{\\mathrm{dec}}\\left(\\varphi_{\\tau}^{\\mathbf{z}}\\left(\\mathbf{z}_{t}\\right), \\mathbf{h}_{t-1}\\right)$\n",
    "\n",
    "Recurrence(equation (7) in the paper): $p\\left(\\mathbf{h}_{t} | \\mathbf{z}_{t}, \\mathbf{x}_{t}, \\mathbf{h}_{t-1}\\right) = f_{\\theta}\\left(\\varphi_{\\tau}^{\\mathbf{x}}\\left(\\mathbf{x}_{t}\\right), \\varphi_{\\tau}^{\\mathbf{z}}\\left(\\mathbf{z}_{t}\\right), \\mathbf{h}_{t-1}\\right)$\n",
    "\n",
    "Inference(equation (9) in the paper): $q\\left(\\mathbf{z}_{t} | \\mathbf{x}_{\\leq t}, \\mathbf{z}_{<t}\\right) = \\mathcal{N}\\left(\\boldsymbol{\\mu}_{z, t}, \\operatorname{diag}\\left(\\boldsymbol{\\sigma}_{z, t}^{2}\\right)\\right), \\text { where }\\left[\\boldsymbol{\\mu}_{z, t}, \\boldsymbol{\\sigma}_{z, t}\\right]=\\varphi_{\\tau}^{\\mathrm{enc}}\\left(\\varphi_{\\tau}^{\\mathbf{x}}\\left(\\mathbf{x}_{t}\\right), \\mathbf{h}_{t-1}\\right)$\n",
    "\n",
    "### MNIST Settings\n",
    "Prior: $p_{\\theta}(z_t | h_{t-1}) = \\cal{N}(\\mu=f_{prior_\\mu}(h_{t-1}),\\sigma^2=f_{prior_\\sigma^2}(h_{t-1})$\n",
    "\n",
    "Generator: $p_{\\theta}(x | z, h_{t-1})=\\mathcal{B}\\left(x ; \\lambda=g_{x}(z, h_{t-1})\\right)$\n",
    "\n",
    "Recurrence: $p(h_{t} | z_t, x_t, h_{t-1}) = RNN(\\varphi_{\\tau}^{\\mathbf{x}}\\left(\\mathbf{x}_{t}\\right), \\varphi_{\\tau}^{\\mathbf{z}}\\left(\\mathbf{z}_{t}\\right), \\mathbf{h}_{t-1})$\n",
    "\n",
    "Inference: $q_\\phi(z_t | h_{t-1}, x_t) =  \\cal{N}(\\mu=f_{infer_\\mu}(h_{t-1}, \\varphi_{\\tau}^{\\mathbf{x}}(x_t)),\\sigma^2=f_{infer_\\sigma^2}(h_{t-1}, \\varphi_{\\tau}^{\\mathbf{x}}(x_t))$"
   ]
  },
  {
   "cell_type": "code",
   "execution_count": 5,
   "metadata": {},
   "outputs": [],
   "source": [
    "x_dim = 28\n",
    "h_dim = 100\n",
    "z_dim = 16\n",
    "t_max = x_dim\n",
    "\n",
    "# feature extraction for x\n",
    "class Phi_x(nn.Module):\n",
    "    def __init__(self):\n",
    "        super(Phi_x, self).__init__()\n",
    "        self.fc0 = nn.Linear(x_dim, h_dim)\n",
    "\n",
    "    def forward(self, x):\n",
    "        return F.relu(self.fc0(x))\n",
    "\n",
    "\n",
    "# feature extraction for z\n",
    "class Phi_z(nn.Module):\n",
    "    def __init__(self):\n",
    "        super(Phi_z, self).__init__()\n",
    "        self.fc0 = nn.Linear(z_dim, h_dim)\n",
    "\n",
    "    def forward(self, z):\n",
    "        return F.relu(self.fc0(z))\n",
    "\n",
    "f_phi_x = Phi_x().to(device)\n",
    "f_phi_z = Phi_z().to(device)"
   ]
  },
  {
   "cell_type": "code",
   "execution_count": 6,
   "metadata": {},
   "outputs": [],
   "source": [
    "from pixyz.distributions import Bernoulli, Normal, Deterministic\n",
    "\n",
    "class Generator(Bernoulli):\n",
    "    \"\"\"\n",
    "    Parameterizes the bernoulli(for MNIST) observation likelihood p(x_t | z_t, h_{t-1})\n",
    "    Given the latent z at a particular time step t and hidden state,\n",
    "    return the vector of probabilities taht parameterizes the bernoulli distribution\n",
    "    \"\"\"\n",
    "    def __init__(self):\n",
    "        super(Generator, self).__init__(cond_var=[\"z\", \"h_prev\"], var=[\"x\"])\n",
    "        self.fc1 = nn.Linear(h_dim + h_dim, h_dim)\n",
    "        self.fc2 = nn.Linear(h_dim, h_dim)\n",
    "        self.fc3 = nn.Linear(h_dim, x_dim)\n",
    "        self.f_phi_z = f_phi_z\n",
    "\n",
    "    def forward(self, z, h_prev):\n",
    "        h = torch.cat((self.f_phi_z(z), h_prev), dim=-1)\n",
    "        h = F.relu(self.fc1(h))\n",
    "        h = F.relu(self.fc2(h))\n",
    "        return {\"probs\": torch.sigmoid(self.fc3(h))}\n",
    "\n",
    "class Prior(Normal):\n",
    "    \"\"\"\n",
    "    VRNN's Prior for latent z is parameterized by hidden_state h_{t-1}\n",
    "    z ~ N(loc(h_{t-1}), scale(h_{t-1}))\n",
    "    \"\"\"\n",
    "    def __init__(self):\n",
    "        super(Prior, self).__init__(cond_var=[\"h_prev\"], var=[\"z\"])\n",
    "        self.fc1 = nn.Linear(h_dim, h_dim)\n",
    "        self.fc21 = nn.Linear(h_dim, z_dim)\n",
    "        self.fc22 = nn.Linear(h_dim, z_dim)\n",
    "\n",
    "    def forward(self, h_prev):\n",
    "        h = F.relu(self.fc1(h_prev))\n",
    "        return {\"loc\": self.fc21(h), \"scale\": F.softplus(self.fc22(h))}\n",
    "\n",
    "class Inference(Normal):\n",
    "    \"\"\"\n",
    "    Parameterizes q(z_t | h_{t-1}, x_t)\n",
    "    infered z ~ N(loc(h_{t-1}, x_t), scale(h_{t-1}, x_t))\n",
    "    \"\"\"\n",
    "    def __init__(self):\n",
    "        super(Inference, self).__init__(cond_var=[\"x\", \"h_prev\"], var=[\"z\"], name=\"q\")\n",
    "        self.fc1 = nn.Linear(h_dim + h_dim, h_dim)\n",
    "        self.fc21 = nn.Linear(h_dim, z_dim)\n",
    "        self.fc22 = nn.Linear(h_dim, z_dim)\n",
    "        self.f_phi_x = f_phi_x\n",
    "\n",
    "    def forward(self, x, h_prev):\n",
    "        h = torch.cat((self.f_phi_x(x), h_prev), dim=-1)\n",
    "        h = F.relu(self.fc1(h))\n",
    "        return {\"loc\": self.fc21(h), \"scale\": F.softplus(self.fc22(h))}\n",
    "\n",
    "class Recurrence(Deterministic):\n",
    "    \"\"\"\n",
    "    RNN for hidden_state\n",
    "    p(h_t | x_t, z_t, h_prev)\n",
    "    \"\"\"\n",
    "    def __init__(self):\n",
    "        super(Recurrence, self).__init__(cond_var=[\"x\", \"z\", \"h_prev\"], var=[\"h\"])\n",
    "        self.rnncell = nn.GRUCell(h_dim * 2, h_dim).to(device)\n",
    "        self.f_phi_x = f_phi_x\n",
    "        self.f_phi_z = f_phi_z\n",
    "        self.hidden_size = self.rnncell.hidden_size\n",
    "\n",
    "    def forward(self, x, z, h_prev):\n",
    "        h_next = self.rnncell(torch.cat((self.f_phi_z(z), self.f_phi_x(x)), dim=-1), h_prev)\n",
    "        return {\"h\": h_next}\n",
    "\n",
    "prior = Prior().to(device)\n",
    "decoder = Generator().to(device)\n",
    "encoder = Inference().to(device)\n",
    "recurrence = Recurrence().to(device)"
   ]
  },
  {
   "cell_type": "code",
   "execution_count": 7,
   "metadata": {},
   "outputs": [],
   "source": [
    "encoder_with_recurrence = encoder * recurrence\n",
    "generate_from_prior = prior * decoder * recurrence"
   ]
  },
  {
   "cell_type": "code",
   "execution_count": 8,
   "metadata": {},
   "outputs": [
    {
     "data": {
      "text/latex": [
       "$$p(h,z|x,h_{prev}) = p(h|x,z,h_{prev})q(z|x,h_{prev})$$"
      ],
      "text/plain": [
       "<IPython.core.display.Math object>"
      ]
     },
     "execution_count": 8,
     "metadata": {},
     "output_type": "execute_result"
    }
   ],
   "source": [
    "print_latex(encoder_with_recurrence)"
   ]
  },
  {
   "cell_type": "code",
   "execution_count": 9,
   "metadata": {},
   "outputs": [
    {
     "data": {
      "text/latex": [
       "$$p(h,x,z|h_{prev}) = p(h|x,z,h_{prev})p(x|z,h_{prev})p(z|h_{prev})$$"
      ],
      "text/plain": [
       "<IPython.core.display.Math object>"
      ]
     },
     "execution_count": 9,
     "metadata": {},
     "output_type": "execute_result"
    }
   ],
   "source": [
    "print_latex(generate_from_prior)"
   ]
  },
  {
   "cell_type": "markdown",
   "metadata": {},
   "source": [
    "## Define Loss function\n",
    "### In the original paper(equation (11) in the original paper)\n",
    "$\\mathbb{E}_{q(\\mathbf{z} \\leq T | \\mathbf{x} \\leq T)}\\left[\\sum_{t=1}^{T}\\left(-\\mathrm{KL}\\left(q\\left(\\mathbf{z}_{t} | \\mathbf{x}_{\\leq t}, \\mathbf{z}_{<t}\\right) \\| p\\left(\\mathbf{z}_{t} | \\mathbf{x}_{<t}, \\mathbf{z}_{<t}\\right)\\right)+\\log p\\left(\\mathbf{x}_{t} | \\mathbf{z}_{\\leq t}, \\mathbf{x}_{<t}\\right)\\right)\\right]$"
   ]
  },
  {
   "cell_type": "code",
   "execution_count": 10,
   "metadata": {},
   "outputs": [],
   "source": [
    "from pixyz.losses import KullbackLeibler, StochasticReconstructionLoss\n",
    "from pixyz.losses import IterativeLoss\n",
    "from pixyz.losses import LogProb"
   ]
  },
  {
   "cell_type": "code",
   "execution_count": 11,
   "metadata": {},
   "outputs": [],
   "source": [
    "from pixyz.models import Model\n",
    "\n",
    "class VRNN(Model):\n",
    "    def __init__(self,\n",
    "                 optimizer=optim.Adam,\n",
    "                 optimizer_params={},\n",
    "                 clip_grad_norm=None,\n",
    "                 clip_grad_value=None):\n",
    "        \"\"\"\n",
    "        Parameters\n",
    "        ----------\n",
    "        loss : pixyz.losses.Loss\n",
    "            Loss class for training.\n",
    "        test_loss : pixyz.losses.Loss\n",
    "            Loss class for testing.\n",
    "        distributions : list\n",
    "            List of :class:`pixyz.distributions.Distribution`.\n",
    "        optimizer : torch.optim\n",
    "            Optimization algorithm.\n",
    "        optimizer_params : dict\n",
    "            Parameters of optimizer\n",
    "        clip_grad_norm : float or int\n",
    "            Maximum allowed norm of the gradients.\n",
    "        clip_grad_value : float or int\n",
    "            Maximum allowed value of the gradients.\n",
    "        \"\"\"\n",
    "        self.prior = Prior().to(device)\n",
    "        self.encoder = Inference().to(device)\n",
    "        self.decoder = Generator().to(device)\n",
    "        self.recurrence = Recurrence().to(device).to(device)\n",
    "        \n",
    "        self.log_prob_loss = LogProb(self.decoder)\n",
    "        self.kl_loss = KullbackLeibler(self.encoder, self.prior)\n",
    "        \n",
    "        distributions = [self.prior, self.encoder, self.decoder, self.recurrence]\n",
    "        self.distributions = nn.ModuleList(distributions)\n",
    "\n",
    "        # set params and optim\n",
    "        params = self.distributions.parameters()\n",
    "        self.optimizer = optimizer(params, **optimizer_params)\n",
    "\n",
    "        self.clip_norm = clip_grad_norm\n",
    "        self.clip_value = clip_grad_value\n",
    "        \n",
    "        \n",
    "    \n",
    "    def calculate_loss(self, input_var_dict={}):\n",
    "        # kl_term = epoch_num / 30\n",
    "        \n",
    "        batch_size = input_var_dict['x'].size()[1]\n",
    "        time_dimension = input_var_dict['x'].size()[0]\n",
    "        # print(f'batch_size: {batch_size}, time_dimenstion: {time_dimension}')\n",
    "        h_prev = torch.zeros(batch_size, self.recurrence.hidden_size).to(device)\n",
    "        total_loss = 0\n",
    "        total_kl_loss = 0\n",
    "        total_log_loss = 0\n",
    "        for t in range(t_max):\n",
    "            x_t = input_var_dict['x'][t]\n",
    "            z_t = self.encoder.sample({'x': x_t, 'h_prev': h_prev})['z']\n",
    "            # print('z_t: ', z_t.shape)\n",
    "            log_prob_loss_value = self.log_prob_loss.eval({'x': x_t, 'z': z_t, 'h_prev': h_prev})\n",
    "            #print(f'log_prob_loss: {log_prob_loss_value}, shape: {log_prob_loss_value.shape}')\n",
    "            kl_loss_value = self.kl_loss.eval({'x': x_t, 'h_prev': h_prev})\n",
    "            #print(f'kl_loss: {kl_loss_value}, shape: {kl_loss_value.shape}')\n",
    "            step_loss = kl_loss_value - log_prob_loss_value\n",
    "            step_loss = torch.mean(step_loss)\n",
    "            #print(f'step_loss: {step_loss}, shape: {step_loss.shape}')\n",
    "            total_loss += step_loss\n",
    "            h_t = recurrence.sample({'x': x_t, 'h_prev': h_prev, 'z': z_t})['h']\n",
    "            h_prev = h_t\n",
    "            # print('1step: ', total_loss)\n",
    "            total_kl_loss += torch.mean(kl_loss_value.detach()).item()\n",
    "            total_log_loss -= torch.mean(log_prob_loss_value.detach()).item()\n",
    "#         print(f'total: {total_loss}')\n",
    "#         print(f'kl: {total_kl_loss}')\n",
    "#         print(f'log: {total_log_loss}')\n",
    "        return total_loss, total_kl_loss, total_log_loss\n",
    "    \n",
    "    def train(self, train_x_dict={}):\n",
    "        \"\"\"Train the model.\n",
    "\n",
    "        Parameters\n",
    "        ----------\n",
    "        train_x_dict : dict\n",
    "            Input data.\n",
    "        **kwargs\n",
    "\n",
    "        Returns\n",
    "        -------\n",
    "        loss : torch.Tensor\n",
    "            Train loss value\n",
    "\n",
    "        \"\"\"\n",
    "        self.distributions.train()\n",
    "\n",
    "        self.optimizer.zero_grad()\n",
    "        loss, kl_loss, log_loss = self.calculate_loss(train_x_dict)\n",
    "\n",
    "        # backprop\n",
    "        loss.backward()\n",
    "\n",
    "        if self.clip_norm:\n",
    "            clip_grad_norm_(self.distributions.parameters(), self.clip_norm)\n",
    "        if self.clip_value:\n",
    "            clip_grad_value_(self.distributions.parameters(), self.clip_value)\n",
    "\n",
    "        # update params\n",
    "        self.optimizer.step()\n",
    "\n",
    "        return loss.item(), kl_loss, log_loss\n",
    "    \n",
    "    def test(self, test_x_dict={}):\n",
    "        \"\"\"Test the model.\n",
    "\n",
    "        Parameters\n",
    "        ----------\n",
    "        test_x_dict : dict\n",
    "            Input data\n",
    "        **kwargs\n",
    "\n",
    "        Returns\n",
    "        -------\n",
    "        loss : torch.Tensor\n",
    "            Test loss value\n",
    "\n",
    "        \"\"\"\n",
    "        self.distributions.eval()\n",
    "\n",
    "        with torch.no_grad():\n",
    "            loss, kl_loss, log_loss = self.calculate_loss(test_x_dict)\n",
    "\n",
    "        return loss.item(), kl_loss, log_loss\n",
    "    \n",
    "    def generate_image_after_nsteps(self, n_step_num, original_data):\n",
    "        xs = []\n",
    "        x = original_data.transpose(0, 1)\n",
    "        batch_size = original_data.size()[0]\n",
    "        h_prev = torch.zeros(batch_size, self.recurrence.hidden_size).to(device)\n",
    "        for t in range(28):\n",
    "            if t < n_step_num - 1:\n",
    "                # before n_step, reconstruct\n",
    "                x_t = x[t]\n",
    "                z_t = self.encoder.sample_mean({'x': x_t, 'h_prev': h_prev})\n",
    "                h = self.recurrence.sample_mean({'x': x_t, 'h_prev': h_prev, 'z': z_t})\n",
    "                dec_x = self.decoder.sample_mean({'h_prev': h_prev, 'z': z_t})\n",
    "                h_prev = h\n",
    "                xs.append(dec_x[None, :])\n",
    "            else:\n",
    "                # generate\n",
    "                z_t = self.prior.sample_mean({'h_prev': h_prev})\n",
    "                dec_x = self.decoder.sample_mean({'h_prev': h_prev, 'z': z_t})\n",
    "                h = self.recurrence.sample_mean({'x': dec_x, 'h_prev': h_prev, 'z': z_t})\n",
    "                h_prev = h\n",
    "                xs.append(dec_x[None, :])\n",
    "        generated_img = torch.cat(xs, dim=0).transpose(0, 1)\n",
    "        return generated_img\n",
    "\n",
    "\n",
    "    def reconst_image(self, original_data):\n",
    "        xs = []\n",
    "        x = original_data.transpose(0, 1)\n",
    "        batch_size = original_data.size()[0]\n",
    "        h_prev = torch.zeros(batch_size, self.recurrence.hidden_size).to(device)\n",
    "        for t in range(28):\n",
    "            # before n_step, reconstruct\n",
    "            x_t = x[t]\n",
    "            z_t = self.encoder.sample_mean({'x': x_t, 'h_prev': h_prev})\n",
    "            h = self.recurrence.sample_mean({'x': x_t, 'h_prev': h_prev, 'z': z_t})\n",
    "            dec_x = self.decoder.sample_mean({'h_prev': h_prev, 'z': z_t})\n",
    "            h_prev = h\n",
    "            xs.append(dec_x[None, :])\n",
    "        recon_img = torch.cat(xs, dim=0).transpose(0, 1)\n",
    "        return recon_img\n",
    "    \n",
    "    def plot_image_from_latent(self, batch_size):\n",
    "        xs = []\n",
    "        h_prev = torch.zeros(batch_size, recurrence.hidden_size).to(device)\n",
    "        for step in range(t_max):\n",
    "            z_t = self.prior.sample({'h_prev': h_prev})['z']\n",
    "            dec_x = self.decoder.sample_mean({'h_prev': h_prev, 'z': z_t})\n",
    "            h = self.recurrence.sample_mean({'x': dec_x, 'h_prev': h_prev, 'z': z_t})\n",
    "            h_prev = h\n",
    "            xs.append(dec_x[None, :])\n",
    "        plotted_image = torch.cat(xs, dim=0).transpose(0, 1)\n",
    "        return plotted_image"
   ]
  },
  {
   "cell_type": "code",
   "execution_count": 23,
   "metadata": {},
   "outputs": [
    {
     "data": {
      "text/plain": [
       "(tensor(27125.6621, device='cuda:0', grad_fn=<AddBackward0>),\n",
       " 0.0,\n",
       " 27125.66180419922)"
      ]
     },
     "execution_count": 23,
     "metadata": {},
     "output_type": "execute_result"
    }
   ],
   "source": [
    "_x, _ = iter(test_loader).next()\n",
    "fixed_batch = _x.to(device)\n",
    "batch_size = fixed_batch.size()[0]\n",
    "sequential_x = fixed_batch.transpose(0, 1)\n",
    "vrnn = VRNN(optimizer=optim.Adam, optimizer_params={'lr': 1e-3})\n",
    "vrnn.calculate_loss({'x': sequential_x})"
   ]
  },
  {
   "cell_type": "code",
   "execution_count": 12,
   "metadata": {},
   "outputs": [],
   "source": [
    "def data_loop(epoch, loader, model, device, train_mode=False):\n",
    "    mean_loss = 0\n",
    "    mean_kl_loss = 0\n",
    "    mean_log_loss = 0\n",
    "    for batch_idx, (data, _) in enumerate(tqdm(loader)):\n",
    "        data = data.to(device)\n",
    "        batch_size = data.size()[0]\n",
    "        x = data.transpose(0, 1)\n",
    "        if train_mode:\n",
    "            loss, kl_loss, log_loss = model.train({'x': x})\n",
    "            mean_loss += loss * batch_size\n",
    "            mean_kl_loss += kl_loss * batch_size\n",
    "            mean_log_loss += log_loss * batch_size\n",
    "        else:\n",
    "            loss, kl_loss, log_loss = model.test({'x': x})\n",
    "            mean_loss += loss * batch_size\n",
    "            mean_kl_loss += kl_loss * batch_size\n",
    "            mean_log_loss += log_loss * batch_size\n",
    "\n",
    "    mean_loss /= len(loader.dataset)\n",
    "    mean_kl_loss /= len(loader.dataset)\n",
    "    mean_log_loss /= len(loader.dataset)\n",
    "    if train_mode:\n",
    "        print('Epoch: {} Train loss: {:.4f}'.format(epoch, mean_loss))\n",
    "    else:\n",
    "        print('Test loss: {:.4f}'.format(mean_loss))\n",
    "    return mean_loss, mean_kl_loss, mean_log_loss"
   ]
  },
  {
   "cell_type": "code",
   "execution_count": 13,
   "metadata": {},
   "outputs": [
    {
     "name": "stderr",
     "output_type": "stream",
     "text": [
      "100%|██████████| 235/235 [00:45<00:00,  5.14it/s]\n",
      "  0%|          | 0/40 [00:00<?, ?it/s]"
     ]
    },
    {
     "name": "stdout",
     "output_type": "stream",
     "text": [
      "Epoch: 1 Train loss: 231.4284\n"
     ]
    },
    {
     "name": "stderr",
     "output_type": "stream",
     "text": [
      "100%|██████████| 40/40 [00:03<00:00, 10.65it/s]\n"
     ]
    },
    {
     "name": "stdout",
     "output_type": "stream",
     "text": [
      "Test loss: 159.4299\n"
     ]
    },
    {
     "name": "stderr",
     "output_type": "stream",
     "text": [
      "100%|██████████| 235/235 [00:45<00:00,  5.16it/s]\n",
      "  0%|          | 0/40 [00:00<?, ?it/s]"
     ]
    },
    {
     "name": "stdout",
     "output_type": "stream",
     "text": [
      "Epoch: 2 Train loss: 140.2957\n"
     ]
    },
    {
     "name": "stderr",
     "output_type": "stream",
     "text": [
      "100%|██████████| 40/40 [00:03<00:00, 10.52it/s]\n"
     ]
    },
    {
     "name": "stdout",
     "output_type": "stream",
     "text": [
      "Test loss: 123.1213\n"
     ]
    },
    {
     "name": "stderr",
     "output_type": "stream",
     "text": [
      "100%|██████████| 235/235 [00:45<00:00,  5.19it/s]\n",
      "  0%|          | 0/40 [00:00<?, ?it/s]"
     ]
    },
    {
     "name": "stdout",
     "output_type": "stream",
     "text": [
      "Epoch: 3 Train loss: 117.9964\n"
     ]
    },
    {
     "name": "stderr",
     "output_type": "stream",
     "text": [
      "100%|██████████| 40/40 [00:03<00:00, 10.04it/s]\n"
     ]
    },
    {
     "name": "stdout",
     "output_type": "stream",
     "text": [
      "Test loss: 111.4841\n"
     ]
    },
    {
     "name": "stderr",
     "output_type": "stream",
     "text": [
      "100%|██████████| 235/235 [00:45<00:00,  5.20it/s]\n",
      "  0%|          | 0/40 [00:00<?, ?it/s]"
     ]
    },
    {
     "name": "stdout",
     "output_type": "stream",
     "text": [
      "Epoch: 4 Train loss: 109.5562\n"
     ]
    },
    {
     "name": "stderr",
     "output_type": "stream",
     "text": [
      "100%|██████████| 40/40 [00:03<00:00, 10.01it/s]\n"
     ]
    },
    {
     "name": "stdout",
     "output_type": "stream",
     "text": [
      "Test loss: 105.4958\n"
     ]
    },
    {
     "name": "stderr",
     "output_type": "stream",
     "text": [
      "100%|██████████| 235/235 [00:45<00:00,  5.15it/s]\n",
      "  0%|          | 0/40 [00:00<?, ?it/s]"
     ]
    },
    {
     "name": "stdout",
     "output_type": "stream",
     "text": [
      "Epoch: 5 Train loss: 104.8563\n"
     ]
    },
    {
     "name": "stderr",
     "output_type": "stream",
     "text": [
      "100%|██████████| 40/40 [00:03<00:00, 10.66it/s]\n"
     ]
    },
    {
     "name": "stdout",
     "output_type": "stream",
     "text": [
      "Test loss: 101.7167\n"
     ]
    }
   ],
   "source": [
    "writer = SummaryWriter(comment='Without_Iterative_Pixyz')\n",
    "# fixed _x for watching reconstruction improvement\n",
    "_x, _ = iter(test_loader).next()\n",
    "_x = _x.to(device)\n",
    "vrnn = VRNN(optimizer=optim.Adam, optimizer_params={'lr': 1e-3})\n",
    "for epoch in range(1, epochs + 1):\n",
    "    train_loss, train_kl_loss, train_log_loss = data_loop(epoch, train_loader, vrnn, device, train_mode=True)\n",
    "    test_loss, test_kl_loss, test_log_loss = data_loop(epoch, test_loader, vrnn, device)\n",
    "\n",
    "    writer.add_scalar('train_loss', train_loss, epoch)\n",
    "    writer.add_scalar('train_kld_loss', train_kl_loss, epoch)\n",
    "    writer.add_scalar('train_nll_loss', train_log_loss, epoch)\n",
    "    \n",
    "    writer.add_scalar('test_loss', test_loss, epoch)\n",
    "    writer.add_scalar('test_kld_loss', test_kl_loss, epoch)\n",
    "    writer.add_scalar('test_nll_loss', test_log_loss, epoch)\n",
    "\n",
    "    sample = vrnn.plot_image_from_latent(batch_size)[:, None]\n",
    "    writer.add_images('Image_from_latent', sample, epoch)\n",
    "    generated_img_7 = vrnn.generate_image_after_nsteps(7, _x)\n",
    "    writer.add_images('Generate_after_7steps', generated_img_7[:, None], epoch)\n",
    "    \n",
    "    generated_img_14 = vrnn.generate_image_after_nsteps(14, _x)\n",
    "    writer.add_images('Generate_after_14steps', generated_img_14[:, None], epoch)\n",
    "    \n",
    "    recon_img = vrnn.reconst_image(_x)\n",
    "    writer.add_images('Reconstructed',  recon_img[:, None], epoch)\n",
    "    \n",
    "    writer.add_images('orignal', _x[:, None], epoch)"
   ]
  },
  {
   "cell_type": "code",
   "execution_count": 25,
   "metadata": {},
   "outputs": [],
   "source": [
    "_x, _ = iter(test_loader).next()\n",
    "fixed_batch = _x.to(device)\n",
    "batch_size = fixed_batch.size()[0]\n",
    "sequential_x = fixed_batch.transpose(0, 1)"
   ]
  },
  {
   "cell_type": "code",
   "execution_count": 26,
   "metadata": {},
   "outputs": [
    {
     "name": "stdout",
     "output_type": "stream",
     "text": [
      "batch_size: 256, time_dimenstion: 28\n",
      "tensor(567.3175, device='cuda:0', grad_fn=<AddBackward0>)\n"
     ]
    }
   ],
   "source": [
    "vrnn = VRNN()\n",
    "vrnn.calculate_loss({'x': sequential_x})"
   ]
  },
  {
   "cell_type": "code",
   "execution_count": null,
   "metadata": {},
   "outputs": [],
   "source": [
    "step_loss = - E(encoder, LogProb(decoder)) + KullbackLeibler(encoder, prior)\n",
    "_loss = IterativeLoss(step_loss, max_iter=t_max, \n",
    "                      series_var=[\"x\", \"h\"], update_value={\"z\": \"z_prev\"})\n",
    "loss = E(rnn, _loss).mean()"
   ]
  },
  {
   "cell_type": "markdown",
   "metadata": {},
   "source": [
    "## Define VRNN model using Model class"
   ]
  },
  {
   "cell_type": "code",
   "execution_count": 10,
   "metadata": {},
   "outputs": [
    {
     "name": "stdout",
     "output_type": "stream",
     "text": [
      "Distributions (for training): \n",
      "  q(z|x,h_{prev}), p(x|z,h_{prev}), p(z|h_{prev}), p(h|x,z,h_{prev}) \n",
      "Loss function: \n",
      "  \\sum_{t=1}^{28} mean \\left(D_{KL} \\left[q(z|x,h_{prev})||p(z|h_{prev}) \\right] - \\mathbb{E}_{p(h,z|x,h_{prev})} \\left[\\log p(x|z,h_{prev}) \\right] \\right) \n",
      "Optimizer: \n",
      "  Adam (\n",
      "  Parameter Group 0\n",
      "      amsgrad: False\n",
      "      betas: (0.9, 0.999)\n",
      "      eps: 1e-08\n",
      "      lr: 0.005\n",
      "      weight_decay: 0\n",
      "  )\n"
     ]
    },
    {
     "data": {
      "text/latex": [
       "$$\\sum_{t=1}^{28} mean \\left(D_{KL} \\left[q(z|x,h_{prev})||p(z|h_{prev}) \\right] - \\mathbb{E}_{p(h,z|x,h_{prev})} \\left[\\log p(x|z,h_{prev}) \\right] \\right)$$"
      ],
      "text/plain": [
       "<IPython.core.display.Math object>"
      ]
     },
     "execution_count": 10,
     "metadata": {},
     "output_type": "execute_result"
    }
   ],
   "source": [
    "from pixyz.models import Model\n",
    "vrnn = Model(loss, distributions=[encoder, decoder, prior, recurrence],\n",
    "             optimizer=optim.Adam, optimizer_params={'lr': 5e-3})\n",
    "\n",
    "print(vrnn)\n",
    "print_latex(vrnn)"
   ]
  },
  {
   "cell_type": "markdown",
   "metadata": {},
   "source": [
    "## Define Train and Test loop using model"
   ]
  },
  {
   "cell_type": "code",
   "execution_count": 11,
   "metadata": {},
   "outputs": [],
   "source": [
    "def data_loop(epoch, loader, model, device, train_mode=False):\n",
    "    mean_loss = 0\n",
    "    for batch_idx, (data, _) in enumerate(tqdm(loader)):\n",
    "        data = data.to(device)\n",
    "        batch_size = data.size()[0]\n",
    "        x = data.transpose(0, 1)\n",
    "        h_prev = torch.zeros(batch_size, recurrence.hidden_size).to(device)\n",
    "        if train_mode:\n",
    "            mean_loss += model.train({'x': x, 'h_prev': h_prev}).item() * batch_size\n",
    "        else:\n",
    "            mean_loss += model.test({'x': x, 'h_prev': h_prev}).item() * batch_size\n",
    "\n",
    "    mean_loss /= len(loader.dataset)\n",
    "    if train_mode:\n",
    "        print('Epoch: {} Train loss: {:.4f}'.format(epoch, mean_loss))\n",
    "    else:\n",
    "        print('Test loss: {:.4f}'.format(mean_loss))\n",
    "    return mean_loss"
   ]
  },
  {
   "cell_type": "markdown",
   "metadata": {},
   "source": [
    "## Reconstruction and generation"
   ]
  },
  {
   "cell_type": "code",
   "execution_count": 27,
   "metadata": {},
   "outputs": [],
   "source": [
    "def plot_image_from_latent(batch_size):\n",
    "    x = []\n",
    "    h_prev = torch.zeros(batch_size, recurrence.hidden_size).to(device)\n",
    "    for step in range(t_max):\n",
    "        samples = generate_from_prior.sample({'h_prev': h_prev})\n",
    "        x_t = decoder.sample_mean({\"z\": samples[\"z\"], \"h_prev\": samples[\"h_prev\"]})\n",
    "        h_prev = samples[\"h\"]\n",
    "        x.append(x_t[None, :])\n",
    "    x = torch.cat(x, dim=0).transpose(0, 1)\n",
    "    return x\n",
    "\n",
    "\n",
    "def generate_image_after_nsteps(n_step_num, original_data):\n",
    "    xs = []\n",
    "    x = original_data.transpose(0, 1)\n",
    "    batch_size = original_data.size()[0]\n",
    "    h_prev = torch.zeros(batch_size, recurrence.hidden_size).to(device)\n",
    "    for t in range(28):\n",
    "        if t < n_step_num - 1:\n",
    "            # before n_step, reconstruct\n",
    "            x_t = x[t]\n",
    "            z_t = encoder.sample_mean({'x': x_t, 'h_prev': h_prev})\n",
    "            h = recurrence.sample_mean({'x': x_t, 'h_prev': h_prev, 'z': z_t})\n",
    "            dec_x = decoder.sample_mean({'h_prev': h_prev, 'z': z_t})\n",
    "            h_prev = h\n",
    "            xs.append(dec_x[None, :])\n",
    "        else:\n",
    "            # generate\n",
    "            z_t = prior.sample_mean({'h_prev': h_prev})\n",
    "            dec_x = decoder.sample_mean({'h_prev': h_prev, 'z': z_t})\n",
    "            h = recurrence.sample_mean({'x': dec_x, 'h_prev': h_prev, 'z': z_t})\n",
    "            h_prev = h\n",
    "            xs.append(dec_x[None, :])\n",
    "    generated_img = torch.cat(xs, dim=0).transpose(0, 1)\n",
    "    return generated_img\n",
    "\n",
    "\n",
    "def reconst_image(original_data):\n",
    "    xs = []\n",
    "    x = original_data.transpose(0, 1)\n",
    "    batch_size = original_data.size()[0]\n",
    "    h_prev = torch.zeros(batch_size, recurrence.hidden_size).to(device)\n",
    "    for t in range(28):\n",
    "        # before n_step, reconstruct\n",
    "        x_t = x[t]\n",
    "        z_t = encoder.sample_mean({'x': x_t, 'h_prev': h_prev})\n",
    "        h = recurrence.sample_mean({'x': x_t, 'h_prev': h_prev, 'z': z_t})\n",
    "        dec_x = decoder.sample_mean({'h_prev': h_prev, 'z': z_t})\n",
    "        h_prev = h\n",
    "        xs.append(dec_x[None, :])\n",
    "    recon_img = torch.cat(xs, dim=0).transpose(0, 1)\n",
    "    return recon_img"
   ]
  },
  {
   "cell_type": "code",
   "execution_count": 13,
   "metadata": {},
   "outputs": [
    {
     "name": "stderr",
     "output_type": "stream",
     "text": [
      "100%|██████████| 235/235 [00:42<00:00,  5.59it/s]\n",
      "  0%|          | 0/40 [00:00<?, ?it/s]"
     ]
    },
    {
     "name": "stdout",
     "output_type": "stream",
     "text": [
      "Epoch: 1 Train loss: 235.9032\n"
     ]
    },
    {
     "name": "stderr",
     "output_type": "stream",
     "text": [
      "100%|██████████| 40/40 [00:03<00:00, 11.63it/s]\n"
     ]
    },
    {
     "name": "stdout",
     "output_type": "stream",
     "text": [
      "Test loss: 220.6288\n"
     ]
    },
    {
     "name": "stderr",
     "output_type": "stream",
     "text": [
      "100%|██████████| 235/235 [00:41<00:00,  5.61it/s]\n",
      "  0%|          | 0/40 [00:00<?, ?it/s]"
     ]
    },
    {
     "name": "stdout",
     "output_type": "stream",
     "text": [
      "Epoch: 2 Train loss: 206.5815\n"
     ]
    },
    {
     "name": "stderr",
     "output_type": "stream",
     "text": [
      "100%|██████████| 40/40 [00:03<00:00, 11.75it/s]\n"
     ]
    },
    {
     "name": "stdout",
     "output_type": "stream",
     "text": [
      "Test loss: 197.7187\n"
     ]
    },
    {
     "name": "stderr",
     "output_type": "stream",
     "text": [
      "100%|██████████| 235/235 [00:41<00:00,  5.63it/s]\n",
      "  0%|          | 0/40 [00:00<?, ?it/s]"
     ]
    },
    {
     "name": "stdout",
     "output_type": "stream",
     "text": [
      "Epoch: 3 Train loss: 194.9141\n"
     ]
    },
    {
     "name": "stderr",
     "output_type": "stream",
     "text": [
      "100%|██████████| 40/40 [00:03<00:00, 11.64it/s]\n"
     ]
    },
    {
     "name": "stdout",
     "output_type": "stream",
     "text": [
      "Test loss: 190.5458\n"
     ]
    }
   ],
   "source": [
    "writer = SummaryWriter()\n",
    "# fixed _x for watching reconstruction improvement\n",
    "_x, _ = iter(test_loader).next()\n",
    "_x = _x.to(device)\n",
    "\n",
    "for epoch in range(1, epochs + 1):\n",
    "    train_loss = data_loop(epoch, train_loader, vrnn, device, train_mode=True)\n",
    "    test_loss = data_loop(epoch, test_loader, vrnn, device)\n",
    "\n",
    "    writer.add_scalar('train_loss', train_loss, epoch)\n",
    "    writer.add_scalar('test_loss', test_loss, epoch)\n",
    "\n",
    "    sample = plot_image_from_latent(batch_size)[:, None]\n",
    "    writer.add_images('Image_from_latent', sample, epoch)\n",
    "    generated_img_7 = generate_image_after_nsteps(7, _x)\n",
    "    writer.add_images('Generate_after_7steps', generated_img_7[:, None], epoch)\n",
    "    \n",
    "    generated_img_14 = generate_image_after_nsteps(14, _x)\n",
    "    writer.add_images('Generate_after_14steps', generated_img_14[:, None], epoch)\n",
    "    \n",
    "    recon_img = reconst_image(_x)\n",
    "    writer.add_images('Reconstructed',  recon_img[:, None], epoch)\n",
    "    \n",
    "    writer.add_images('orignal', _x[:, None], epoch)"
   ]
  },
  {
   "cell_type": "code",
   "execution_count": null,
   "metadata": {
    "collapsed": true,
    "jupyter": {
     "outputs_hidden": true
    }
   },
   "outputs": [],
   "source": []
  },
  {
   "cell_type": "code",
   "execution_count": null,
   "metadata": {},
   "outputs": [],
   "source": []
  }
 ],
 "metadata": {
  "kernelspec": {
   "display_name": "Python 3",
   "language": "python",
   "name": "python3"
  },
  "language_info": {
   "codemirror_mode": {
    "name": "ipython",
    "version": 3
   },
   "file_extension": ".py",
   "mimetype": "text/x-python",
   "name": "python",
   "nbconvert_exporter": "python",
   "pygments_lexer": "ipython3",
   "version": "3.6.4"
  }
 },
 "nbformat": 4,
 "nbformat_minor": 4
}
